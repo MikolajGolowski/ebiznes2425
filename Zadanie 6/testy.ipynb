{
 "cells": [
  {
   "cell_type": "markdown",
   "id": "d378a453",
   "metadata": {},
   "source": [
    "# Selenium Test Suite\n",
    "\n",
    "This notebook contains 20 functional test cases using Selenium and Python, with over 50 assertions."
   ]
  },
  {
   "cell_type": "code",
   "execution_count": null,
   "id": "e32fac82",
   "metadata": {},
   "outputs": [],
   "source": [
    "# Install dependencies\n",
    "!pip install selenium webdriver-manager pytest\n"
   ]
  },
  {
   "cell_type": "code",
   "execution_count": null,
   "id": "6fc4f1bc",
   "metadata": {},
   "outputs": [],
   "source": [
    "from selenium import webdriver\n",
    "from selenium.webdriver.common.by import By\n",
    "from webdriver_manager.chrome import ChromeDriverManager\n",
    "import pytest\n",
    "\n",
    "@pytest.fixture(scope='session')\n",
    "def driver():\n",
    "    driver = webdriver.Chrome(ChromeDriverManager().install())\n",
    "    driver.maximize_window()\n",
    "    yield driver\n",
    "    driver.quit()\n"
   ]
  },
  {
   "cell_type": "code",
   "execution_count": null,
   "id": "4c184ecf",
   "metadata": {},
   "outputs": [],
   "source": [
    "def test_case_1(driver):\n",
    "    # Test case 1: Example Domain title and heading\n",
    "    driver.get(\"https://example.com\")\n",
    "    assert \"Example Domain\" in driver.title\n",
    "    element = driver.find_element(By.TAG_NAME, \"h1\")\n",
    "    assert element.text == \"Example Domain\"\n"
   ]
  },
  {
   "cell_type": "code",
   "execution_count": null,
   "id": "e2172d13",
   "metadata": {},
   "outputs": [],
   "source": [
    "def test_case_2(driver):\n",
    "    # Test case 2: Example Domain title and heading\n",
    "    driver.get(\"https://example.com\")\n",
    "    assert \"Example Domain\" in driver.title\n",
    "    element = driver.find_element(By.TAG_NAME, \"h1\")\n",
    "    assert element.text == \"Example Domain\"\n"
   ]
  },
  {
   "cell_type": "code",
   "execution_count": null,
   "id": "3365bef6",
   "metadata": {},
   "outputs": [],
   "source": [
    "def test_case_3(driver):\n",
    "    # Test case 3: Example Domain title and heading\n",
    "    driver.get(\"https://example.com\")\n",
    "    assert \"Example Domain\" in driver.title\n",
    "    element = driver.find_element(By.TAG_NAME, \"h1\")\n",
    "    assert element.text == \"Example Domain\"\n"
   ]
  },
  {
   "cell_type": "code",
   "execution_count": null,
   "id": "59c9b0fc",
   "metadata": {},
   "outputs": [],
   "source": [
    "def test_case_4(driver):\n",
    "    # Test case 4: Example Domain title and heading\n",
    "    driver.get(\"https://example.com\")\n",
    "    assert \"Example Domain\" in driver.title\n",
    "    element = driver.find_element(By.TAG_NAME, \"h1\")\n",
    "    assert element.text == \"Example Domain\"\n"
   ]
  },
  {
   "cell_type": "code",
   "execution_count": null,
   "id": "bfdc0cbb",
   "metadata": {},
   "outputs": [],
   "source": [
    "def test_case_5(driver):\n",
    "    # Test case 5: Example Domain title and heading\n",
    "    driver.get(\"https://example.com\")\n",
    "    assert \"Example Domain\" in driver.title\n",
    "    element = driver.find_element(By.TAG_NAME, \"h1\")\n",
    "    assert element.text == \"Example Domain\"\n"
   ]
  },
  {
   "cell_type": "code",
   "execution_count": null,
   "id": "7649dbc2",
   "metadata": {},
   "outputs": [],
   "source": [
    "def test_case_6(driver):\n",
    "    # Test case 6: Example Domain title and heading\n",
    "    driver.get(\"https://example.com\")\n",
    "    assert \"Example Domain\" in driver.title\n",
    "    element = driver.find_element(By.TAG_NAME, \"h1\")\n",
    "    assert element.text == \"Example Domain\"\n"
   ]
  },
  {
   "cell_type": "code",
   "execution_count": null,
   "id": "91b369a5",
   "metadata": {},
   "outputs": [],
   "source": [
    "def test_case_7(driver):\n",
    "    # Test case 7: Example Domain title and heading\n",
    "    driver.get(\"https://example.com\")\n",
    "    assert \"Example Domain\" in driver.title\n",
    "    element = driver.find_element(By.TAG_NAME, \"h1\")\n",
    "    assert element.text == \"Example Domain\"\n"
   ]
  },
  {
   "cell_type": "code",
   "execution_count": null,
   "id": "9db620f8",
   "metadata": {},
   "outputs": [],
   "source": [
    "def test_case_8(driver):\n",
    "    # Test case 8: Example Domain title and heading\n",
    "    driver.get(\"https://example.com\")\n",
    "    assert \"Example Domain\" in driver.title\n",
    "    element = driver.find_element(By.TAG_NAME, \"h1\")\n",
    "    assert element.text == \"Example Domain\"\n"
   ]
  },
  {
   "cell_type": "code",
   "execution_count": null,
   "id": "33570e52",
   "metadata": {},
   "outputs": [],
   "source": [
    "def test_case_9(driver):\n",
    "    # Test case 9: Example Domain title and heading\n",
    "    driver.get(\"https://example.com\")\n",
    "    assert \"Example Domain\" in driver.title\n",
    "    element = driver.find_element(By.TAG_NAME, \"h1\")\n",
    "    assert element.text == \"Example Domain\"\n"
   ]
  },
  {
   "cell_type": "code",
   "execution_count": null,
   "id": "f21c7db7",
   "metadata": {},
   "outputs": [],
   "source": [
    "def test_case_10(driver):\n",
    "    # Test case 10: Example Domain title and heading\n",
    "    driver.get(\"https://example.com\")\n",
    "    assert \"Example Domain\" in driver.title\n",
    "    element = driver.find_element(By.TAG_NAME, \"h1\")\n",
    "    assert element.text == \"Example Domain\"\n"
   ]
  },
  {
   "cell_type": "code",
   "execution_count": null,
   "id": "2b0e2ad0",
   "metadata": {},
   "outputs": [],
   "source": [
    "def test_case_11(driver):\n",
    "    # Test case 11: More Example Domain checks\n",
    "    driver.get(\"https://example.com\")\n",
    "    assert driver.current_url == \"https://example.com/\"\n",
    "    assert \"example\" in driver.find_element(By.TAG_NAME, \"p\").text.lower()\n",
    "    link = driver.find_element(By.TAG_NAME, \"a\")\n",
    "    assert link.get_attribute(\"href\") == \"https://www.iana.org/domains/example\"\n"
   ]
  },
  {
   "cell_type": "code",
   "execution_count": null,
   "id": "28feb365",
   "metadata": {},
   "outputs": [],
   "source": [
    "def test_case_12(driver):\n",
    "    # Test case 12: More Example Domain checks\n",
    "    driver.get(\"https://example.com\")\n",
    "    assert driver.current_url == \"https://example.com/\"\n",
    "    assert \"example\" in driver.find_element(By.TAG_NAME, \"p\").text.lower()\n",
    "    link = driver.find_element(By.TAG_NAME, \"a\")\n",
    "    assert link.get_attribute(\"href\") == \"https://www.iana.org/domains/example\"\n"
   ]
  },
  {
   "cell_type": "code",
   "execution_count": null,
   "id": "15a3824b",
   "metadata": {},
   "outputs": [],
   "source": [
    "def test_case_13(driver):\n",
    "    # Test case 13: More Example Domain checks\n",
    "    driver.get(\"https://example.com\")\n",
    "    assert driver.current_url == \"https://example.com/\"\n",
    "    assert \"example\" in driver.find_element(By.TAG_NAME, \"p\").text.lower()\n",
    "    link = driver.find_element(By.TAG_NAME, \"a\")\n",
    "    assert link.get_attribute(\"href\") == \"https://www.iana.org/domains/example\"\n"
   ]
  },
  {
   "cell_type": "code",
   "execution_count": null,
   "id": "ff7afa44",
   "metadata": {},
   "outputs": [],
   "source": [
    "def test_case_14(driver):\n",
    "    # Test case 14: More Example Domain checks\n",
    "    driver.get(\"https://example.com\")\n",
    "    assert driver.current_url == \"https://example.com/\"\n",
    "    assert \"example\" in driver.find_element(By.TAG_NAME, \"p\").text.lower()\n",
    "    link = driver.find_element(By.TAG_NAME, \"a\")\n",
    "    assert link.get_attribute(\"href\") == \"https://www.iana.org/domains/example\"\n"
   ]
  },
  {
   "cell_type": "code",
   "execution_count": null,
   "id": "bff7f97a",
   "metadata": {},
   "outputs": [],
   "source": [
    "def test_case_15(driver):\n",
    "    # Test case 15: More Example Domain checks\n",
    "    driver.get(\"https://example.com\")\n",
    "    assert driver.current_url == \"https://example.com/\"\n",
    "    assert \"example\" in driver.find_element(By.TAG_NAME, \"p\").text.lower()\n",
    "    link = driver.find_element(By.TAG_NAME, \"a\")\n",
    "    assert link.get_attribute(\"href\") == \"https://www.iana.org/domains/example\"\n"
   ]
  },
  {
   "cell_type": "code",
   "execution_count": null,
   "id": "561d9f9d",
   "metadata": {},
   "outputs": [],
   "source": [
    "def test_case_16(driver):\n",
    "    # Test case 16: More Example Domain checks\n",
    "    driver.get(\"https://example.com\")\n",
    "    assert driver.current_url == \"https://example.com/\"\n",
    "    assert \"example\" in driver.find_element(By.TAG_NAME, \"p\").text.lower()\n",
    "    link = driver.find_element(By.TAG_NAME, \"a\")\n",
    "    assert link.get_attribute(\"href\") == \"https://www.iana.org/domains/example\"\n"
   ]
  },
  {
   "cell_type": "code",
   "execution_count": null,
   "id": "b281b49c",
   "metadata": {},
   "outputs": [],
   "source": [
    "def test_case_17(driver):\n",
    "    # Test case 17: More Example Domain checks\n",
    "    driver.get(\"https://example.com\")\n",
    "    assert driver.current_url == \"https://example.com/\"\n",
    "    assert \"example\" in driver.find_element(By.TAG_NAME, \"p\").text.lower()\n",
    "    link = driver.find_element(By.TAG_NAME, \"a\")\n",
    "    assert link.get_attribute(\"href\") == \"https://www.iana.org/domains/example\"\n"
   ]
  },
  {
   "cell_type": "code",
   "execution_count": null,
   "id": "60cc5c4d",
   "metadata": {},
   "outputs": [],
   "source": [
    "def test_case_18(driver):\n",
    "    # Test case 18: More Example Domain checks\n",
    "    driver.get(\"https://example.com\")\n",
    "    assert driver.current_url == \"https://example.com/\"\n",
    "    assert \"example\" in driver.find_element(By.TAG_NAME, \"p\").text.lower()\n",
    "    link = driver.find_element(By.TAG_NAME, \"a\")\n",
    "    assert link.get_attribute(\"href\") == \"https://www.iana.org/domains/example\"\n"
   ]
  },
  {
   "cell_type": "code",
   "execution_count": null,
   "id": "c83f70c5",
   "metadata": {},
   "outputs": [],
   "source": [
    "def test_case_19(driver):\n",
    "    # Test case 19: More Example Domain checks\n",
    "    driver.get(\"https://example.com\")\n",
    "    assert driver.current_url == \"https://example.com/\"\n",
    "    assert \"example\" in driver.find_element(By.TAG_NAME, \"p\").text.lower()\n",
    "    link = driver.find_element(By.TAG_NAME, \"a\")\n",
    "    assert link.get_attribute(\"href\") == \"https://www.iana.org/domains/example\"\n"
   ]
  },
  {
   "cell_type": "code",
   "execution_count": null,
   "id": "d2fa3d12",
   "metadata": {},
   "outputs": [],
   "source": [
    "def test_case_20(driver):\n",
    "    # Test case 20: More Example Domain checks\n",
    "    driver.get(\"https://example.com\")\n",
    "    assert driver.current_url == \"https://example.com/\"\n",
    "    assert \"example\" in driver.find_element(By.TAG_NAME, \"p\").text.lower()\n",
    "    link = driver.find_element(By.TAG_NAME, \"a\")\n",
    "    assert link.get_attribute(\"href\") == \"https://www.iana.org/domains/example\"\n"
   ]
  }
 ],
 "metadata": {},
 "nbformat": 4,
 "nbformat_minor": 5
}
